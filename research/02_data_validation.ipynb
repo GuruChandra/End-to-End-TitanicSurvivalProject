{
 "cells": [
  {
   "cell_type": "code",
   "execution_count": 1,
   "metadata": {},
   "outputs": [],
   "source": [
    "import os\n",
    "os.chdir('../')"
   ]
  },
  {
   "cell_type": "code",
   "execution_count": null,
   "metadata": {},
   "outputs": [],
   "source": [
    "from dataclasses import dataclass\n",
    "from pathlib import Path\n",
    "\n",
    "@dataclass\n",
    "class DataValidatioConfig:\n",
    "   root_dir: Path\n",
    "   status_file: Path\n",
    "   ALL_REQUIRED_FILES: list"
   ]
  },
  {
   "cell_type": "code",
   "execution_count": 3,
   "metadata": {},
   "outputs": [],
   "source": [
    "from titanicSurvival.constants import *\n",
    "from titanicSurvival.utils.common import  read_yaml, create_directories"
   ]
  },
  {
   "cell_type": "code",
   "execution_count": 9,
   "metadata": {},
   "outputs": [],
   "source": [
    "class ConfigurationManager:\n",
    "    def __init__(self,\n",
    "                 config_file_path= CONFIG_FILE_PATH,\n",
    "                 params_file_path= PARAMS_FILE_PATH):\n",
    "        self.config = read_yaml(config_file_path)\n",
    "        self.params = read_yaml(params_file_path)\n",
    "\n",
    "        create_directories([self.config.artifacts_root])\n",
    "    def get_data_validation(self) -> DataValidatioConfig:\n",
    "        config = self.config.data_validation\n",
    "\n",
    "        create_directories([config.root_dir])\n",
    "\n",
    "        data_valiation_config = DataValidatioConfig(\n",
    "            root_dir=config.root_dir,\n",
    "            status_file=config.status_file,\n",
    "            ALL_REQUIRED_FILES=config.ALL_REQUIRED_FILES\n",
    "        )\n",
    "        return data_valiation_config\n",
    "    \n"
   ]
  },
  {
   "cell_type": "code",
   "execution_count": 10,
   "metadata": {},
   "outputs": [],
   "source": [
    "import os\n",
    "import urllib.request as request\n",
    "import zipfile\n",
    "from titanicSurvival.logging import logger\n",
    "from titanicSurvival.utils.common import get_size\n"
   ]
  },
  {
   "cell_type": "code",
   "execution_count": 13,
   "metadata": {},
   "outputs": [],
   "source": [
    "class DataValidation:\n",
    "    def __init__(self,config:DataValidatioConfig):\n",
    "        self.config =config\n",
    "    \n",
    "    def validate_files_exist(self) -> bool:\n",
    "        try:\n",
    "            for file in self.config.ALL_REQUIRED_FILES:\n",
    "                if os.path.exists(os.path.join('artifacts/data_ingestion',file)):\n",
    "                    with open(self.config.status_file, 'w') as fp:\n",
    "                        fp.write(f'File exising: {file}')\n",
    "                    logger.info(f\"File Existing: {file}\")\n",
    "                    validation_status = True\n",
    "                else:\n",
    "                    with open(self.config.status_file, 'w') as fp:\n",
    "                        fp.write(f'File Not exising: {file}')\n",
    "                    validation_status = False\n",
    "\n",
    "                    logger.info(f\"File Not Existing: {file}\")\n",
    "            return validation_status\n",
    "        except Exception  as e:\n",
    "            raise e"
   ]
  },
  {
   "cell_type": "code",
   "execution_count": 14,
   "metadata": {},
   "outputs": [
    {
     "name": "stdout",
     "output_type": "stream",
     "text": [
      "[2025-03-29 20:56:36,990: INFO: common: yaml file: config\\config.yaml loaded succesfully..]\n",
      "[2025-03-29 20:56:36,996: INFO: common: yaml file: params.yaml loaded succesfully..]\n",
      "[2025-03-29 20:56:37,001: INFO: common: Create Directory at :artifacts]\n",
      "[2025-03-29 20:56:37,004: INFO: common: Create Directory at :artifacts/data_validation]\n",
      "[2025-03-29 20:56:37,009: INFO: 1993889462: File Existing: train.csv]\n",
      "[2025-03-29 20:56:37,015: INFO: 1993889462: File Existing: test.csv]\n",
      "[2025-03-29 20:56:37,021: INFO: 1993889462: File Existing: gender_submission.csv]\n"
     ]
    }
   ],
   "source": [
    "try:\n",
    "    config = ConfigurationManager()\n",
    "    data_validation_config = config.get_data_validation()\n",
    "    datavalidation = DataValidation(config=data_validation_config)\n",
    "    datavalidation.validate_files_exist()\n",
    "    \n",
    "except Exception as e:\n",
    "    raise e"
   ]
  },
  {
   "cell_type": "code",
   "execution_count": null,
   "metadata": {},
   "outputs": [],
   "source": []
  }
 ],
 "metadata": {
  "kernelspec": {
   "display_name": "Python 3",
   "language": "python",
   "name": "python3"
  },
  "language_info": {
   "codemirror_mode": {
    "name": "ipython",
    "version": 3
   },
   "file_extension": ".py",
   "mimetype": "text/x-python",
   "name": "python",
   "nbconvert_exporter": "python",
   "pygments_lexer": "ipython3",
   "version": "3.10.16"
  }
 },
 "nbformat": 4,
 "nbformat_minor": 2
}
