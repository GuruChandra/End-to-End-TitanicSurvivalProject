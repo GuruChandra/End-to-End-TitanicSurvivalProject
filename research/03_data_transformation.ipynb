{
 "cells": [
  {
   "cell_type": "code",
   "execution_count": 2,
   "metadata": {},
   "outputs": [],
   "source": [
    "import os\n"
   ]
  },
  {
   "cell_type": "code",
   "execution_count": 1,
   "metadata": {},
   "outputs": [
    {
     "data": {
      "text/plain": [
       "'c:\\\\Chandu\\\\WorkSpace\\\\Learnings\\\\Repos\\\\End-to-End-TitanicSurvivalProject\\\\research'"
      ]
     },
     "execution_count": 1,
     "metadata": {},
     "output_type": "execute_result"
    }
   ],
   "source": [
    "%pwd"
   ]
  },
  {
   "cell_type": "code",
   "execution_count": 3,
   "metadata": {},
   "outputs": [],
   "source": [
    "os.chdir('../')"
   ]
  },
  {
   "cell_type": "code",
   "execution_count": 4,
   "metadata": {},
   "outputs": [
    {
     "data": {
      "text/plain": [
       "'c:\\\\Chandu\\\\WorkSpace\\\\Learnings\\\\Repos\\\\End-to-End-TitanicSurvivalProject'"
      ]
     },
     "execution_count": 4,
     "metadata": {},
     "output_type": "execute_result"
    }
   ],
   "source": [
    "%pwd"
   ]
  },
  {
   "cell_type": "code",
   "execution_count": 5,
   "metadata": {},
   "outputs": [],
   "source": [
    "from dataclasses import dataclass\n",
    "from pathlib import Path\n",
    "\n",
    "@dataclass\n",
    "class DataTransformationConfig:\n",
    "    root_dir: Path\n",
    "    data_path: Path"
   ]
  },
  {
   "cell_type": "code",
   "execution_count": 6,
   "metadata": {},
   "outputs": [],
   "source": [
    "from titanicSurvival.constants import *\n",
    "from titanicSurvival.utils.common import  read_yaml, create_directories"
   ]
  },
  {
   "cell_type": "code",
   "execution_count": 7,
   "metadata": {},
   "outputs": [],
   "source": [
    "class ConfigurationManager:\n",
    "    def __init__(self,\n",
    "                 config_file_path= CONFIG_FILE_PATH,\n",
    "                 params_file_path= PARAMS_FILE_PATH):\n",
    "        self.config = read_yaml(config_file_path)\n",
    "        self.params = read_yaml(params_file_path)\n",
    "\n",
    "        create_directories([self.config.artifacts_root])\n",
    "    def get_data_transformation(self) -> DataTransformationConfig:\n",
    "        config = self.config.data_transformation\n",
    "\n",
    "        create_directories([config.root_dir])\n",
    "\n",
    "        data_tranformation_config = DataTransformationConfig(\n",
    "            root_dir=config.root_dir,\n",
    "            data_path=config.data_path,\n",
    "            \n",
    "        )\n",
    "        return data_tranformation_config"
   ]
  },
  {
   "cell_type": "code",
   "execution_count": null,
   "metadata": {},
   "outputs": [],
   "source": [
    "import os\n",
    "import urllib.request as request\n",
    "import zipfile\n",
    "from titanicSurvival.logging import logger\n",
    "from titanicSurvival.utils.common import get_size\n",
    "import numpy as np\n",
    "import pandas as pd\n",
    "import matplotlib.pyplot as plt\n",
    "import seaborn as sns\n",
    "from sklearn.preprocessing import LabelEncoder, OrdinalEncoder\n"
   ]
  },
  {
   "cell_type": "code",
   "execution_count": 9,
   "metadata": {},
   "outputs": [],
   "source": [
    "def getAgeSubSection(age):\n",
    "    #print(age)\n",
    "    if age > 60:\n",
    "        return 5\n",
    "    elif age > 50:\n",
    "        return 4\n",
    "    elif age > 40:\n",
    "        return 3\n",
    "    elif age > 30:\n",
    "        return 2\n",
    "    #elif age > 20:\n",
    "    #   return 2\n",
    "    elif age > 15:\n",
    "        return 1\n",
    "    else:\n",
    "        return 0\n",
    "def assignCabin(row):\n",
    "    if row.Cabin == 'X':\n",
    "        if row.Pclass == 1 :\n",
    "            return 'C'\n",
    "        elif row.Pclass == 2:\n",
    "            return 'F'\n",
    "        else:\n",
    "            return 'G'\n",
    "    else:\n",
    "        return row.Cabin"
   ]
  },
  {
   "cell_type": "code",
   "execution_count": 26,
   "metadata": {},
   "outputs": [],
   "source": [
    "class DataTransformation:\n",
    "    def __init__(self,config:DataTransformationConfig):\n",
    "        self.config =config\n",
    "    \n",
    "    def combine_train_test_data(self):\n",
    "        try:\n",
    "            df = pd.read_csv(os.path.join('artifacts/data_ingestion/','train.csv'))\n",
    "            target_df = pd.read_csv(os.path.join('artifacts/data_ingestion/','gender_submission.csv'))\n",
    "            test_df = pd.read_csv(os.path.join('artifacts/data_ingestion/','test.csv'))\n",
    "            test_df.insert(1,'Survived',target_df['Survived'])\n",
    "            df = pd.concat([df, test_df])\n",
    "            logger.info(f\"Cocatenated train and test data\")\n",
    "            return df\n",
    "        except Exception as e:\n",
    "            raise e\n",
    "    \n",
    "    \n",
    "    def create_features(self):\n",
    "\n",
    "        df = self.combine_train_test_data()\n",
    "        \n",
    "        df['Sex'] = df['Sex'].fillna(df['Sex'].mode()[0]).map({'female':0, 'male': 1 })\n",
    "        df['Age']=df['Age'].fillna(df['Age'].mode()[0])\n",
    "        df['Age']=df['Age'].apply(lambda x: getAgeSubSection(x))\n",
    "        df['Embarked']=df['Embarked'].fillna(df['Embarked'].mode()[0])\n",
    "        df['Embarked'] = (df['Embarked'].map({'C':0, 'S':1, 'Q':2})).astype(int)\n",
    "        \n",
    "        df['Cabin']=df['Cabin'].fillna(\"X\").map(lambda x: x[0])\n",
    "        df['Cabin']=df.apply(lambda row: assignCabin(row),axis=1)\n",
    "        print(f\"Cabin data after assigned values: {df['Cabin'].head()}\")\n",
    "\n",
    "        cabinEncode = OrdinalEncoder()\n",
    "        df['Cabin']=(cabinEncode.fit_transform(df[['Cabin']])).astype(int)\n",
    "        df.drop(columns=['PassengerId','Name','Ticket','Fare'],inplace=True,axis=1)\n",
    "        #print(df['Cabin'].isnull().sum())\n",
    "        print(df.head())\n",
    "        df_np = df.to_numpy()\n",
    "\n",
    "        X_train,y_train = df_np[:-418,1:],df_np[:-418,0]\n",
    "        X_test,y_test = df_np[-418:,1:],df_np[-418:,0]\n",
    "\n",
    "        X_train_path = os.path.join(self.config.root_dir, 'train_features_x.csv')\n",
    "        pd.DataFrame(X_train).to_csv(X_train_path,index=False)\n",
    "\n",
    "        y_train_path = os.path.join(self.config.root_dir, 'train_features_y.csv')\n",
    "        pd.DataFrame(y_train).to_csv(y_train_path,index=False)\n",
    "\n",
    "        logger.info(f\"Train feature files created: {X_train_path} \\n and {y_train_path}\")\n",
    "        logger.info(f\"Feature row looks like: {df.head(3)}\")\n",
    "        X_test_path = os.path.join(self.config.root_dir, 'test_features_x.csv')\n",
    "        pd.DataFrame(X_test).to_csv(X_test_path,index=False)\n",
    "\n",
    "        y_test_path = os.path.join(self.config.root_dir, 'test_features_y.csv')\n",
    "        pd.DataFrame(y_test).to_csv(y_test_path,index=False)\n",
    "        logger.info(f\"Test feature files created: {X_test_path} \\n and {y_test_path}\")\n",
    "\n",
    "\n",
    "            \n"
   ]
  },
  {
   "cell_type": "code",
   "execution_count": 27,
   "metadata": {},
   "outputs": [
    {
     "name": "stdout",
     "output_type": "stream",
     "text": [
      "[2025-03-30 17:06:01,392: INFO: common: yaml file: config\\config.yaml loaded succesfully..]\n",
      "[2025-03-30 17:06:01,395: INFO: common: yaml file: params.yaml loaded succesfully..]\n",
      "[2025-03-30 17:06:01,397: INFO: common: Create Directory at :artifacts]\n",
      "[2025-03-30 17:06:01,398: INFO: common: Create Directory at :artifacts/data_transformation]\n",
      "[2025-03-30 17:06:01,408: INFO: 3436811045: Cocatenated train and test data]\n",
      "Cabin data after assigned values: 0    G\n",
      "1    C\n",
      "2    G\n",
      "3    C\n",
      "4    G\n",
      "Name: Cabin, dtype: object\n",
      "   Survived  Pclass  Sex  Age  SibSp  Parch  Cabin  Embarked\n",
      "0         0       3    1    1      1      0      6         1\n",
      "1         1       1    0    2      1      0      2         0\n",
      "2         1       3    0    1      0      0      6         1\n",
      "3         1       1    0    2      1      0      2         1\n",
      "4         0       3    1    2      0      0      6         1\n",
      "[2025-03-30 17:06:01,521: INFO: 3436811045: Train feature files created: artifacts/data_transformation\\train_features_x.csv \n",
      " and artifacts/data_transformation\\train_features_y.csv]\n",
      "[2025-03-30 17:06:01,525: INFO: 3436811045: Feature row looks like:    Survived  Pclass  Sex  Age  SibSp  Parch  Cabin  Embarked\n",
      "0         0       3    1    1      1      0      6         1\n",
      "1         1       1    0    2      1      0      2         0\n",
      "2         1       3    0    1      0      0      6         1]\n",
      "[2025-03-30 17:06:01,534: INFO: 3436811045: Test feature files created: artifacts/data_transformation\\test_features_x.csv \n",
      " and artifacts/data_transformation\\test_features_y.csv]\n"
     ]
    }
   ],
   "source": [
    "try:\n",
    "    config = ConfigurationManager()\n",
    "    dat_transforamtion_config = config.get_data_transformation()\n",
    "    data_transformation = DataTransformation(config=dat_transforamtion_config)\n",
    "    data_transformation.create_features()\n",
    "except Exception as e:\n",
    "    raise e"
   ]
  },
  {
   "cell_type": "code",
   "execution_count": null,
   "metadata": {},
   "outputs": [],
   "source": []
  }
 ],
 "metadata": {
  "kernelspec": {
   "display_name": "Python 3",
   "language": "python",
   "name": "python3"
  },
  "language_info": {
   "codemirror_mode": {
    "name": "ipython",
    "version": 3
   },
   "file_extension": ".py",
   "mimetype": "text/x-python",
   "name": "python",
   "nbconvert_exporter": "python",
   "pygments_lexer": "ipython3",
   "version": "3.10.16"
  }
 },
 "nbformat": 4,
 "nbformat_minor": 2
}
