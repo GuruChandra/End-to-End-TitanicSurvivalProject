{
 "cells": [
  {
   "cell_type": "code",
   "execution_count": 13,
   "metadata": {},
   "outputs": [],
   "source": [
    "import os\n",
    "os.chdir('../')"
   ]
  },
  {
   "cell_type": "code",
   "execution_count": 14,
   "metadata": {},
   "outputs": [
    {
     "data": {
      "text/plain": [
       "'c:\\\\Chandu\\\\WorkSpace\\\\Learnings\\\\Repos\\\\End-to-End-TitanicSurvivalProject'"
      ]
     },
     "execution_count": 14,
     "metadata": {},
     "output_type": "execute_result"
    }
   ],
   "source": [
    "%pwd"
   ]
  },
  {
   "cell_type": "code",
   "execution_count": 15,
   "metadata": {},
   "outputs": [],
   "source": [
    "from dataclasses import dataclass\n",
    "from pathlib import Path\n",
    "\n",
    "@dataclass\n",
    "class ModelTrainerConfig:\n",
    "    root_dir: Path\n",
    "    data_path: Path"
   ]
  },
  {
   "cell_type": "code",
   "execution_count": 16,
   "metadata": {},
   "outputs": [],
   "source": [
    "from titanicSurvival.constants import *\n",
    "from titanicSurvival.utils.common import  read_yaml, create_directories"
   ]
  },
  {
   "cell_type": "code",
   "execution_count": 17,
   "metadata": {},
   "outputs": [],
   "source": [
    "class ConfigurationManager:\n",
    "    def __init__(self,\n",
    "                 config_file_path= CONFIG_FILE_PATH,\n",
    "                 params_file_path= PARAMS_FILE_PATH):\n",
    "        self.config = read_yaml(config_file_path)\n",
    "        self.params = read_yaml(params_file_path)\n",
    "\n",
    "        create_directories([self.config.artifacts_root])\n",
    "    def get_model_trainer(self) -> ModelTrainerConfig:\n",
    "        config = self.config.model_trainer\n",
    "\n",
    "        create_directories([config.root_dir])\n",
    "\n",
    "        model_trainer_config = ModelTrainerConfig(\n",
    "            root_dir=config.root_dir,\n",
    "            data_path=config.data_path\n",
    "        )\n",
    "        return model_trainer_config"
   ]
  },
  {
   "cell_type": "code",
   "execution_count": 18,
   "metadata": {},
   "outputs": [],
   "source": [
    "import os\n",
    "import urllib.request as request\n",
    "import zipfile\n",
    "from titanicSurvival.logging import logger\n",
    "from titanicSurvival.utils.common import get_size\n",
    "import numpy as np\n",
    "import pandas as pd\n",
    "import matplotlib.pyplot as plt\n",
    "import seaborn as sns\n",
    "from sklearn.preprocessing import OrdinalEncoder\n",
    "from sklearn.metrics import classification_report\n",
    "from typing import Any"
   ]
  },
  {
   "cell_type": "code",
   "execution_count": 19,
   "metadata": {},
   "outputs": [],
   "source": [
    "from sklearn.linear_model import LogisticRegression"
   ]
  },
  {
   "cell_type": "code",
   "execution_count": 20,
   "metadata": {},
   "outputs": [],
   "source": [
    "import joblib"
   ]
  },
  {
   "cell_type": "code",
   "execution_count": 21,
   "metadata": {},
   "outputs": [],
   "source": [
    "class ModelTrainer:\n",
    "    def __init__(self,config:ModelTrainerConfig):\n",
    "        self.config =config\n",
    "    \n",
    "    def get_transformed_data(self) -> tuple[np.array, np.array, np.array, np.array]:\n",
    "        try:\n",
    "            X_train_df = pd.read_csv(os.path.join('artifacts/data_transformation/','train_features_x.csv'))\n",
    "            y_train_df = pd.read_csv(os.path.join('artifacts/data_transformation/','train_features_y.csv'))\n",
    "            X_test_df = pd.read_csv(os.path.join('artifacts/data_transformation/','test_features_x.csv'))\n",
    "            y_test_df = pd.read_csv(os.path.join('artifacts/data_transformation/','test_features_y.csv'))\n",
    "            \n",
    "            logger.info(f\"Cocatenated train and test data\")\n",
    "            print(X_train_df.head())\n",
    "            return X_train_df.to_numpy(),y_train_df.to_numpy(),X_test_df.to_numpy(),y_test_df.to_numpy()\n",
    "        except Exception as e:\n",
    "            raise e\n",
    "    \n",
    "    \n",
    "    def fit_model(self,X_train,y_train,X_test,y_test):\n",
    "\n",
    "        X_train, y_train, X_test, y_test = self.get_transformed_data()\n",
    "\n",
    "        lr = LogisticRegression()\n",
    "\n",
    "        lr.fit(X_train,y_train)\n",
    "        logger.info(f\"{ classification_report(y_test,lr.predict(X_test))}\")\n",
    "\n",
    "        joblib.dump(lr,os.path.join(self.config.root_dir,'model.pkl'))\n",
    "        logger.info(f\"Model Save to path: {self.config.root_dir}\")\n",
    "\n",
    "            \n"
   ]
  },
  {
   "cell_type": "code",
   "execution_count": 22,
   "metadata": {},
   "outputs": [],
   "source": [
    "# try:\n",
    "#     config = ConfigurationManager()\n",
    "#     modletrainer_config = config.get_model_trainer()\n",
    "#     model_trainer=ModelTrainer(config=modletrainer_config)\n",
    "#     X_train,y_train,X_test,y_test =model_trainer.get_transformed_data()\n",
    "#     model_trainer.fit_model(X_train,y_train,X_test,y_test)\n",
    "    \n",
    "# except Exception as e:\n",
    "#     raise e"
   ]
  },
  {
   "cell_type": "code",
   "execution_count": 23,
   "metadata": {},
   "outputs": [],
   "source": [
    "from titanicSurvival.components.data_transformation import assignCabin, getAgeSubSection"
   ]
  },
  {
   "cell_type": "code",
   "execution_count": 31,
   "metadata": {},
   "outputs": [],
   "source": [
    "def convert_input_data_exp_feature_vector(input_data):\n",
    "    df  = pd.DataFrame(input_data)\n",
    "    df['Sex'] = df['Sex'].fillna(df['Sex'].mode()[0]).map({'female':0, 'male': 1 })\n",
    "    df['Age']=df['Age'].fillna(df['Age'].mode()[0])\n",
    "    df['Age']=df['Age'].apply(lambda x: getAgeSubSection(x))\n",
    "    df['Embarked']=df['Embarked'].fillna(df['Embarked'].mode()[0])\n",
    "    df['Embarked'] = (df['Embarked'].map({'C':0, 'S':1, 'Q':2})).astype(int)\n",
    "    \n",
    "    df['Cabin']=df['Cabin'].fillna(\"X\").map(lambda x: x[0])\n",
    "    df['Cabin']=df.apply(lambda row: assignCabin(row),axis=1)\n",
    "    print(f\"Cabin data after assigned values: {df['Cabin'].head()}\")\n",
    "\n",
    "    cabinEncode = OrdinalEncoder()\n",
    "    df['Cabin']=(cabinEncode.fit_transform(df[['Cabin']])).astype(int)\n",
    "    df.drop(columns=['PassengerId','Name','Ticket','Fare'],inplace=True,axis=1)\n",
    "    #print(df['Cabin'].isnull().sum())\n",
    "    print(df.head())\n",
    "    df_np = df.to_numpy()\n",
    "    return df_np"
   ]
  },
  {
   "cell_type": "code",
   "execution_count": 25,
   "metadata": {},
   "outputs": [],
   "source": [
    "from io import StringIO\n",
    "import pandas as pd\n",
    "df_eval = pd.DataFrame(StringIO(\"\"\"PassengerId,Pclass,Name,Sex,Age,SibSp,Parch,Ticket,Fare,Cabin,Embarked\n",
    "892,3,\"Kelly, Mr. James\",male,34.5,0,0,330911,7.8292,,Q\"\"\"))"
   ]
  },
  {
   "cell_type": "code",
   "execution_count": 34,
   "metadata": {},
   "outputs": [
    {
     "name": "stdout",
     "output_type": "stream",
     "text": [
      "   PassengerId  Pclass                              Name  ... Fare  Cabin  Embarked\n",
      "0          893       3  Wilkes, Mrs. James (Ellen Needs)  ...    7   None         S\n",
      "\n",
      "[1 rows x 11 columns]\n"
     ]
    }
   ],
   "source": [
    "import pandas as pd\n",
    "\n",
    "data = {\n",
    "    \"PassengerId\": [893],\n",
    "    \"Pclass\": [3],\n",
    "    \"Name\": [\"Wilkes, Mrs. James (Ellen Needs)\"],\n",
    "    \"Sex\": [\"female\"],\n",
    "    \"Age\": [47],\n",
    "    \"SibSp\": [1],\n",
    "    \"Parch\": [0],\n",
    "    \"Ticket\": [\"363272\"],\n",
    "    \"Fare\": [7],\n",
    "    \"Cabin\": [None],  # Missing value\n",
    "    \"Embarked\": [\"S\"]\n",
    "}\n",
    "\n",
    "df_eval = pd.DataFrame(data)\n",
    "print(df_eval)\n"
   ]
  },
  {
   "cell_type": "code",
   "execution_count": 37,
   "metadata": {},
   "outputs": [
    {
     "data": {
      "text/html": [
       "<div>\n",
       "<style scoped>\n",
       "    .dataframe tbody tr th:only-of-type {\n",
       "        vertical-align: middle;\n",
       "    }\n",
       "\n",
       "    .dataframe tbody tr th {\n",
       "        vertical-align: top;\n",
       "    }\n",
       "\n",
       "    .dataframe thead th {\n",
       "        text-align: right;\n",
       "    }\n",
       "</style>\n",
       "<table border=\"1\" class=\"dataframe\">\n",
       "  <thead>\n",
       "    <tr style=\"text-align: right;\">\n",
       "      <th></th>\n",
       "      <th>PassengerId</th>\n",
       "      <th>Pclass</th>\n",
       "      <th>Name</th>\n",
       "      <th>Sex</th>\n",
       "      <th>Age</th>\n",
       "      <th>SibSp</th>\n",
       "      <th>Parch</th>\n",
       "      <th>Ticket</th>\n",
       "      <th>Fare</th>\n",
       "      <th>Cabin</th>\n",
       "      <th>Embarked</th>\n",
       "    </tr>\n",
       "  </thead>\n",
       "  <tbody>\n",
       "    <tr>\n",
       "      <th>0</th>\n",
       "      <td>892</td>\n",
       "      <td>3</td>\n",
       "      <td>Kelly, Mr. James</td>\n",
       "      <td>male</td>\n",
       "      <td>34.5</td>\n",
       "      <td>0</td>\n",
       "      <td>0</td>\n",
       "      <td>330911</td>\n",
       "      <td>7.8292</td>\n",
       "      <td>NaN</td>\n",
       "      <td>Q</td>\n",
       "    </tr>\n",
       "    <tr>\n",
       "      <th>1</th>\n",
       "      <td>893</td>\n",
       "      <td>3</td>\n",
       "      <td>Wilkes, Mrs. James (Ellen Needs)</td>\n",
       "      <td>female</td>\n",
       "      <td>47.0</td>\n",
       "      <td>1</td>\n",
       "      <td>0</td>\n",
       "      <td>363272</td>\n",
       "      <td>7.0000</td>\n",
       "      <td>NaN</td>\n",
       "      <td>S</td>\n",
       "    </tr>\n",
       "    <tr>\n",
       "      <th>2</th>\n",
       "      <td>894</td>\n",
       "      <td>2</td>\n",
       "      <td>Myles, Mr. Thomas Francis</td>\n",
       "      <td>male</td>\n",
       "      <td>62.0</td>\n",
       "      <td>0</td>\n",
       "      <td>0</td>\n",
       "      <td>240276</td>\n",
       "      <td>9.6875</td>\n",
       "      <td>NaN</td>\n",
       "      <td>Q</td>\n",
       "    </tr>\n",
       "    <tr>\n",
       "      <th>3</th>\n",
       "      <td>895</td>\n",
       "      <td>3</td>\n",
       "      <td>Wirz, Mr. Albert</td>\n",
       "      <td>male</td>\n",
       "      <td>27.0</td>\n",
       "      <td>0</td>\n",
       "      <td>0</td>\n",
       "      <td>315154</td>\n",
       "      <td>8.6625</td>\n",
       "      <td>NaN</td>\n",
       "      <td>S</td>\n",
       "    </tr>\n",
       "    <tr>\n",
       "      <th>4</th>\n",
       "      <td>896</td>\n",
       "      <td>3</td>\n",
       "      <td>Hirvonen, Mrs. Alexander (Helga E Lindqvist)</td>\n",
       "      <td>female</td>\n",
       "      <td>22.0</td>\n",
       "      <td>1</td>\n",
       "      <td>1</td>\n",
       "      <td>3101298</td>\n",
       "      <td>12.2875</td>\n",
       "      <td>NaN</td>\n",
       "      <td>S</td>\n",
       "    </tr>\n",
       "    <tr>\n",
       "      <th>...</th>\n",
       "      <td>...</td>\n",
       "      <td>...</td>\n",
       "      <td>...</td>\n",
       "      <td>...</td>\n",
       "      <td>...</td>\n",
       "      <td>...</td>\n",
       "      <td>...</td>\n",
       "      <td>...</td>\n",
       "      <td>...</td>\n",
       "      <td>...</td>\n",
       "      <td>...</td>\n",
       "    </tr>\n",
       "    <tr>\n",
       "      <th>413</th>\n",
       "      <td>1305</td>\n",
       "      <td>3</td>\n",
       "      <td>Spector, Mr. Woolf</td>\n",
       "      <td>male</td>\n",
       "      <td>NaN</td>\n",
       "      <td>0</td>\n",
       "      <td>0</td>\n",
       "      <td>A.5. 3236</td>\n",
       "      <td>8.0500</td>\n",
       "      <td>NaN</td>\n",
       "      <td>S</td>\n",
       "    </tr>\n",
       "    <tr>\n",
       "      <th>414</th>\n",
       "      <td>1306</td>\n",
       "      <td>1</td>\n",
       "      <td>Oliva y Ocana, Dona. Fermina</td>\n",
       "      <td>female</td>\n",
       "      <td>39.0</td>\n",
       "      <td>0</td>\n",
       "      <td>0</td>\n",
       "      <td>PC 17758</td>\n",
       "      <td>108.9000</td>\n",
       "      <td>C105</td>\n",
       "      <td>C</td>\n",
       "    </tr>\n",
       "    <tr>\n",
       "      <th>415</th>\n",
       "      <td>1307</td>\n",
       "      <td>3</td>\n",
       "      <td>Saether, Mr. Simon Sivertsen</td>\n",
       "      <td>male</td>\n",
       "      <td>38.5</td>\n",
       "      <td>0</td>\n",
       "      <td>0</td>\n",
       "      <td>SOTON/O.Q. 3101262</td>\n",
       "      <td>7.2500</td>\n",
       "      <td>NaN</td>\n",
       "      <td>S</td>\n",
       "    </tr>\n",
       "    <tr>\n",
       "      <th>416</th>\n",
       "      <td>1308</td>\n",
       "      <td>3</td>\n",
       "      <td>Ware, Mr. Frederick</td>\n",
       "      <td>male</td>\n",
       "      <td>NaN</td>\n",
       "      <td>0</td>\n",
       "      <td>0</td>\n",
       "      <td>359309</td>\n",
       "      <td>8.0500</td>\n",
       "      <td>NaN</td>\n",
       "      <td>S</td>\n",
       "    </tr>\n",
       "    <tr>\n",
       "      <th>417</th>\n",
       "      <td>1309</td>\n",
       "      <td>3</td>\n",
       "      <td>Peter, Master. Michael J</td>\n",
       "      <td>male</td>\n",
       "      <td>NaN</td>\n",
       "      <td>1</td>\n",
       "      <td>1</td>\n",
       "      <td>2668</td>\n",
       "      <td>22.3583</td>\n",
       "      <td>NaN</td>\n",
       "      <td>C</td>\n",
       "    </tr>\n",
       "  </tbody>\n",
       "</table>\n",
       "<p>418 rows × 11 columns</p>\n",
       "</div>"
      ],
      "text/plain": [
       "     PassengerId  Pclass  ... Cabin Embarked\n",
       "0            892       3  ...   NaN        Q\n",
       "1            893       3  ...   NaN        S\n",
       "2            894       2  ...   NaN        Q\n",
       "3            895       3  ...   NaN        S\n",
       "4            896       3  ...   NaN        S\n",
       "..           ...     ...  ...   ...      ...\n",
       "413         1305       3  ...   NaN        S\n",
       "414         1306       1  ...  C105        C\n",
       "415         1307       3  ...   NaN        S\n",
       "416         1308       3  ...   NaN        S\n",
       "417         1309       3  ...   NaN        C\n",
       "\n",
       "[418 rows x 11 columns]"
      ]
     },
     "execution_count": 37,
     "metadata": {},
     "output_type": "execute_result"
    }
   ],
   "source": [
    "df_eval = pd.read_csv('./artifacts/data_ingestion/test.csv')\n",
    "df_eval"
   ]
  },
  {
   "cell_type": "code",
   "execution_count": 49,
   "metadata": {},
   "outputs": [],
   "source": [
    "y_target = pd.read_csv('./artifacts/data_ingestion/gender_submission.csv')\n",
    "y_target.drop(columns=['PassengerId'],inplace=True,axis=1)\n",
    "y_target.head(2)\n",
    "y_target_np = y_target.to_numpy()"
   ]
  },
  {
   "cell_type": "code",
   "execution_count": null,
   "metadata": {},
   "outputs": [],
   "source": []
  },
  {
   "cell_type": "code",
   "execution_count": 51,
   "metadata": {},
   "outputs": [
    {
     "name": "stdout",
     "output_type": "stream",
     "text": [
      "[2025-04-01 07:25:39,548: INFO: common: yaml file: config\\config.yaml loaded succesfully..]\n",
      "[2025-04-01 07:25:39,555: INFO: common: yaml file: params.yaml loaded succesfully..]\n",
      "[2025-04-01 07:25:39,560: INFO: common: Create Directory at :artifacts]\n",
      "[2025-04-01 07:25:39,566: INFO: common: Create Directory at :artifacts/model_trainer]\n"
     ]
    },
    {
     "name": "stdout",
     "output_type": "stream",
     "text": [
      "Cabin data after assigned values: 0    G\n",
      "1    G\n",
      "2    F\n",
      "3    G\n",
      "4    G\n",
      "Name: Cabin, dtype: object\n",
      "   Pclass  Sex  Age  SibSp  Parch  Cabin  Embarked\n",
      "0       3    1    2      0      0      6         2\n",
      "1       3    0    3      1      0      6         1\n",
      "2       2    1    5      0      0      5         2\n",
      "3       3    1    1      0      0      6         1\n",
      "4       3    0    1      1      1      6         1\n",
      "              precision    recall  f1-score   support\n",
      "\n",
      "Not Survived       0.86      1.00      0.92         6\n",
      "    Survived       1.00      0.75      0.86         4\n",
      "\n",
      "    accuracy                           0.90        10\n",
      "   macro avg       0.93      0.88      0.89        10\n",
      "weighted avg       0.91      0.90      0.90        10\n",
      "\n"
     ]
    }
   ],
   "source": [
    "try:\n",
    "    config = ConfigurationManager()\n",
    "    modletrainer_config = config.get_model_trainer()\n",
    "    features = convert_input_data_exp_feature_vector(df_eval)\n",
    "    model_load = joblib.load(os.path.join(modletrainer_config.root_dir,'model.pkl'))\n",
    "    predicted_out =model_load.predict(features)\n",
    "\n",
    "    print(classification_report(y_target_np[:10],predicted_out[:10] ,target_names=['Not Survived','Survived']))\n",
    "    #print(features)\n",
    "except Exception as e:\n",
    "    raise e"
   ]
  },
  {
   "cell_type": "code",
   "execution_count": null,
   "metadata": {},
   "outputs": [],
   "source": []
  }
 ],
 "metadata": {
  "kernelspec": {
   "display_name": "Python 3",
   "language": "python",
   "name": "python3"
  },
  "language_info": {
   "codemirror_mode": {
    "name": "ipython",
    "version": 3
   },
   "file_extension": ".py",
   "mimetype": "text/x-python",
   "name": "python",
   "nbconvert_exporter": "python",
   "pygments_lexer": "ipython3",
   "version": "3.10.16"
  }
 },
 "nbformat": 4,
 "nbformat_minor": 2
}
